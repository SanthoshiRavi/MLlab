{
  "nbformat": 4,
  "nbformat_minor": 0,
  "metadata": {
    "colab": {
      "provenance": []
    },
    "kernelspec": {
      "name": "python3",
      "display_name": "Python 3"
    },
    "language_info": {
      "name": "python"
    }
  },
  "cells": [
    {
      "cell_type": "code",
      "execution_count": null,
      "metadata": {
        "id": "8tsvJPSbWXsZ"
      },
      "outputs": [],
      "source": [
        "import pandas as pd\n",
        "from sklearn.model_selection import train_test_split\n",
        "from sklearn.preprocessing import StandardScaler, OneHotEncoder\n",
        "from sklearn.compose import ColumnTransformer\n",
        "from sklearn.pipeline import Pipeline\n",
        "from sklearn.impute import SimpleImputer\n",
        "from sklearn.linear_model import LogisticRegression\n",
        "from sklearn.metrics import accuracy_score, classification_report"
      ]
    },
    {
      "cell_type": "markdown",
      "source": [
        "*   First, we load the dataset `weatherAUS.csv` into a pandas DataFrame named `data`. This dataset contains weather observations from various locations in Australia. The following code snippet is used to load the data and print the initial shape of the dataset, which indicates the number of rows and columns it contains.\n",
        "*   This output tells us that the dataset consists of 145,460 observations (rows) and 23 features (columns), providing a comprehensive overview of the weather conditions in Australia across different locations and times.\n",
        "\n"
      ],
      "metadata": {
        "id": "8mueqhkPTj_Z"
      }
    },
    {
      "cell_type": "code",
      "source": [
        "# Load the dataset\n",
        "data = pd.read_csv('/content/sample_data/weatherAUS.csv')\n",
        "print(\"Initial dataset shape:\", data.shape)\n"
      ],
      "metadata": {
        "colab": {
          "base_uri": "https://localhost:8080/"
        },
        "id": "wW0XLO9CWhtx",
        "outputId": "d1e0182a-9f79-4a92-864f-5a8f183947ac"
      },
      "execution_count": null,
      "outputs": [
        {
          "output_type": "stream",
          "name": "stdout",
          "text": [
            "Initial dataset shape: (145460, 23)\n"
          ]
        }
      ]
    },
    {
      "cell_type": "markdown",
      "source": [
        "\n",
        "\n",
        "*   After loading the dataset, we aim to transform the 'Date' column to separate it into three distinct columns: 'Year', 'Month', and 'Day'. This transformation allows for easier analysis and manipulation of the dataset based on specific time frames. The 'Date' column is first converted into a pandas datetime format. Then, we extract the year, month, and day as separate columns. Finally, the original 'Date' column is dropped from the dataset since it's no longer needed after the extraction. The following code snippet accomplishes this transformation:\n",
        "*   This output shows the first five rows of the dataset, demonstrating how the 'Date' column has been successfully split into 'Year', 'Month', and 'Day' columns, enhancing the dataset's structure for further analysis.\n",
        "\n"
      ],
      "metadata": {
        "id": "4nQ2wj-uVQ9C"
      }
    },
    {
      "cell_type": "code",
      "source": [
        "# Transform 'Date' column into 'Year', 'Month', and 'Day'\n",
        "data['Date'] = pd.to_datetime(data['Date'])\n",
        "data['Year'] = data['Date'].dt.year\n",
        "data['Month'] = data['Date'].dt.month\n",
        "data['Day'] = data['Date'].dt.day\n",
        "data.drop('Date', axis=1, inplace=True)  # Remove the original Date column\n",
        "print(\"After transforming 'Date' column:\", data[['Year', 'Month', 'Day']].head())"
      ],
      "metadata": {
        "colab": {
          "base_uri": "https://localhost:8080/"
        },
        "id": "73n5E0PjX2b5",
        "outputId": "a8f4c5b2-9ecb-4bec-a955-d982d2933f27"
      },
      "execution_count": null,
      "outputs": [
        {
          "output_type": "stream",
          "name": "stdout",
          "text": [
            "After transforming 'Date' column:    Year  Month  Day\n",
            "0  2008     12    1\n",
            "1  2008     12    2\n",
            "2  2008     12    3\n",
            "3  2008     12    4\n",
            "4  2008     12    5\n"
          ]
        }
      ]
    },
    {
      "cell_type": "markdown",
      "source": [
        "\n",
        "\n",
        "*   Before we proceed with splitting the dataset into features and target variables for machine learning models, it's crucial to clean the data and ensure it's in the right format. This involves two key steps:\n",
        "\n",
        "1. **Dropping Rows Where the Target Variable is Missing:** Since the prediction of rain tomorrow ('RainTomorrow') is our primary objective, rows with missing values in the 'RainTomorrow' column are not useful for training predictive models. Therefore, we remove these rows from the dataset.\n",
        "\n",
        "2. **Encoding the Target Variable:** The 'RainTomorrow' column contains categorical data ('Yes' or 'No'), which needs to be encoded into a numerical format that can be processed by machine learning algorithms. We map 'No' to 0 and 'Yes' to 1.\n",
        "\n",
        "3. **Ensuring No NaN Values in the Target Variable:** It's critical to confirm that there are no NaN values left in the 'RainTomorrow' column after encoding, as NaN values can cause errors in model training.\n",
        "\n",
        "Finally, we split the dataset into features (X) and the target variable (y) after cleaning and encoding. The features include all columns except 'RainTomorrow', while the target is the 'RainTomorrow' column itself. Here's how we accomplish these steps:\n",
        "*   These outputs indicate the successful cleaning and preparation of the dataset, with the 'RainTomorrow' column encoded and the dataset ready for the split into features and target variable.\n",
        "\n"
      ],
      "metadata": {
        "id": "XgYxVVDWWB62"
      }
    },
    {
      "cell_type": "code",
      "source": [
        "# Drop rows where the target variable is missing BEFORE splitting\n",
        "data.dropna(subset=['RainTomorrow'], inplace=True)\n",
        "print(\"After dropping rows with missing 'RainTomorrow':\", data.shape)\n",
        "\n",
        "# Encode the target variable 'RainTomorrow'\n",
        "data['RainTomorrow'] = data['RainTomorrow'].map({'No': 0, 'Yes': 1})\n",
        "print(\"After encoding 'RainTomorrow':\", data['RainTomorrow'].value_counts())\n",
        "\n",
        "# Ensure no NaN values in the target variable\n",
        "assert data['RainTomorrow'].isnull().sum() == 0, \"NaN values found in 'RainTomorrow'\"\n",
        "\n",
        "# Split the dataset into features (X) and target (y) AFTER cleaning and encoding\n",
        "X = data.drop('RainTomorrow', axis=1)\n",
        "y = data['RainTomorrow']"
      ],
      "metadata": {
        "colab": {
          "base_uri": "https://localhost:8080/"
        },
        "id": "ImuBWmhhYEDk",
        "outputId": "f4e8d778-1345-4dd9-b976-6ebcc528d7bf"
      },
      "execution_count": null,
      "outputs": [
        {
          "output_type": "stream",
          "name": "stdout",
          "text": [
            "After dropping rows with missing 'RainTomorrow': (142193, 25)\n",
            "After encoding 'RainTomorrow': 0    110316\n",
            "1     31877\n",
            "Name: RainTomorrow, dtype: int64\n"
          ]
        }
      ]
    },
    {
      "cell_type": "code",
      "source": [
        "# Split X and y into training and test sets\n",
        "X_train, X_test, y_train, y_test = train_test_split(X, y, test_size=0.2, random_state=42)\n",
        "print(f\"Training data shape: {X_train.shape}, Test data shape: {X_test.shape}\")"
      ],
      "metadata": {
        "colab": {
          "base_uri": "https://localhost:8080/"
        },
        "id": "Q21Jha7UYIKF",
        "outputId": "934c2e41-d79b-44ba-f62f-bead4e6f6502"
      },
      "execution_count": null,
      "outputs": [
        {
          "output_type": "stream",
          "name": "stdout",
          "text": [
            "Training data shape: (113754, 24), Test data shape: (28439, 24)\n"
          ]
        }
      ]
    },
    {
      "cell_type": "markdown",
      "source": [
        "Once the dataset is cleaned, encoded, and split into features (X) and the target variable (y), the next step is to prepare the data for machine learning models. This preparation includes selecting numerical and categorical columns for different preprocessing pipelines. Numerical columns may require scaling or normalization, while categorical columns often need encoding to transform them into a format suitable for model training.\n",
        "\n",
        "### Selecting Columns for Preprocessing\n",
        "\n",
        "We categorize the features into numerical and categorical columns based on their data types:\n",
        "\n",
        "- **Numerical Columns:** These include columns with data types `int64` and `float64`. Additionally, the columns 'Year', 'Month', and 'Day', derived from the 'Date' column, are explicitly added to the numerical list as they represent time components in numerical format.\n",
        "  \n",
        "- **Categorical Columns:** These are columns with the data type `object`, indicating textual or categorical data that will need to be encoded before modeling.\n",
        "\n",
        "Here is the code snippet used to select these columns and print their names:"
      ],
      "metadata": {
        "id": "hreiopK9q8A2"
      }
    },
    {
      "cell_type": "code",
      "source": [
        "# Select columns for preprocessing\n",
        "numerical_cols = X_train.select_dtypes(include=['int64', 'float64']).columns.tolist() + ['Year', 'Month', 'Day']\n",
        "categorical_cols = X_train.select_dtypes(include=['object']).columns.tolist()\n",
        "print(f\"Numerical columns: {numerical_cols}\\nCategorical columns: {categorical_cols}\")"
      ],
      "metadata": {
        "colab": {
          "base_uri": "https://localhost:8080/"
        },
        "id": "regDshdjYL5R",
        "outputId": "fea9e41d-7cee-412c-ae4b-debf6e194f1e"
      },
      "execution_count": null,
      "outputs": [
        {
          "output_type": "stream",
          "name": "stdout",
          "text": [
            "Numerical columns: ['MinTemp', 'MaxTemp', 'Rainfall', 'Evaporation', 'Sunshine', 'WindGustSpeed', 'WindSpeed9am', 'WindSpeed3pm', 'Humidity9am', 'Humidity3pm', 'Pressure9am', 'Pressure3pm', 'Cloud9am', 'Cloud3pm', 'Temp9am', 'Temp3pm', 'Year', 'Month', 'Day', 'Year', 'Month', 'Day']\n",
            "Categorical columns: ['Location', 'WindGustDir', 'WindDir9am', 'WindDir3pm', 'RainToday']\n"
          ]
        }
      ]
    },
    {
      "cell_type": "markdown",
      "source": [
        "With the features classified into numerical and categorical columns, the next step in preparing our data for machine learning involves creating preprocessing pipelines. These pipelines are designed to handle missing values and apply appropriate transformations to each type of data, ensuring that our dataset is ready for modeling.\n",
        "\n",
        "### Creating Preprocessing Pipelines\n",
        "\n",
        "The preprocessing steps are different for numerical and categorical data:\n",
        "\n",
        "- **Numerical Data Preprocessing:** For numerical columns, we first handle missing values by imputing them with the column mean. Then, we scale the data using `StandardScaler` to normalize its distribution, making it more suitable for algorithms that are sensitive to the scale of the input features.\n",
        "\n",
        "- **Categorical Data Preprocessing:** Categorical columns require filling missing values with the most frequent category (mode) and then converting the categories into a numerical format using one-hot encoding. One-hot encoding creates binary columns for each category, which is essential for models that cannot handle categorical data directly.\n",
        "\n",
        "Here's how we define these pipelines using `sklearn`'s `Pipeline` and preprocessing classes:"
      ],
      "metadata": {
        "id": "GGiKmzjlrj5h"
      }
    },
    {
      "cell_type": "code",
      "source": [
        "# Create preprocessing pipelines\n",
        "numerical_transformer = Pipeline(steps=[\n",
        "    ('imputer', SimpleImputer(strategy='mean')),\n",
        "    ('scaler', StandardScaler())\n",
        "])\n",
        "\n",
        "categorical_transformer = Pipeline(steps=[\n",
        "    ('imputer', SimpleImputer(strategy='most_frequent')),\n",
        "    ('onehot', OneHotEncoder(handle_unknown='ignore'))\n",
        "])\n"
      ],
      "metadata": {
        "id": "t2fPsGs9YQ0J"
      },
      "execution_count": null,
      "outputs": []
    },
    {
      "cell_type": "markdown",
      "source": [
        "After setting up the individual preprocessing pipelines for numerical and categorical data, we now combine these steps into a single preprocessor. This comprehensive approach allows us to apply consistent preprocessing to both training and test datasets efficiently. Here's how we achieve this:\n",
        "\n",
        "### Combining Preprocessing Steps\n",
        "\n",
        "We use `ColumnTransformer` to apply the respective preprocessing pipelines to numerical and categorical columns simultaneously. This approach not only streamlines the preprocessing workflow but also ensures that our data is correctly prepared for machine learning models."
      ],
      "metadata": {
        "id": "SQrqUxTwsqkx"
      }
    },
    {
      "cell_type": "code",
      "source": [
        "# Combine preprocessing steps\n",
        "preprocessor = ColumnTransformer(\n",
        "    transformers=[\n",
        "        ('num', numerical_transformer, numerical_cols),\n",
        "        ('cat', categorical_transformer, categorical_cols)\n",
        "    ])\n",
        "\n",
        "# Apply preprocessing to both training and test data\n",
        "X_train_prepared = preprocessor.fit_transform(X_train)\n",
        "X_test_prepared = preprocessor.transform(X_test)\n",
        "\n",
        "# Generate feature names from the preprocessor\n",
        "numerical_features = numerical_cols\n",
        "categorical_features = preprocessor.named_transformers_['cat']['onehot'].get_feature_names_out(categorical_cols)\n",
        "all_feature_names = numerical_features + list(categorical_features)\n",
        "\n",
        "# Convert the preprocessed training and test data back into pandas DataFrames\n",
        "X_train_df = pd.DataFrame(X_train_prepared.toarray(), columns=all_feature_names)\n",
        "X_test_df = pd.DataFrame(X_test_prepared.toarray(), columns=all_feature_names)\n",
        "\n",
        "# Save the preprocessed datasets\n",
        "X_train_df.to_csv('/content/sample_data/X_train_preprocessed.csv', index=False)\n",
        "X_test_df.to_csv('/content/sample_data/X_test_preprocessed.csv', index=False)\n",
        "y_train.to_csv('/content/sample_data/y_train.csv', index=False)\n",
        "y_test.to_csv('/content/sample_data/y_test.csv', index=False)\n",
        "\n",
        "print(\"Preprocessed datasets saved.\")"
      ],
      "metadata": {
        "colab": {
          "base_uri": "https://localhost:8080/"
        },
        "id": "KN8iFAGxYXPT",
        "outputId": "23ef2ed7-95d3-4337-debb-9b2a588435e5"
      },
      "execution_count": null,
      "outputs": [
        {
          "output_type": "stream",
          "name": "stdout",
          "text": [
            "Preprocessed datasets saved.\n"
          ]
        }
      ]
    },
    {
      "cell_type": "code",
      "source": [
        "# You can inspect the preprocessed features like this\n",
        "feature_names = preprocessor.transformers_[1][1]['onehot'].get_feature_names_out(categorical_cols)\n",
        "all_feature_names = numerical_cols + feature_names.tolist()  # Combine numerical and categorical feature names\n",
        "# Displaying the feature names\n",
        "print(\"Feature names after preprocessing:\", all_feature_names)"
      ],
      "metadata": {
        "colab": {
          "base_uri": "https://localhost:8080/"
        },
        "id": "8P309nCsud08",
        "outputId": "260a9732-0e5f-44a6-d26c-5df5f246601c"
      },
      "execution_count": null,
      "outputs": [
        {
          "output_type": "stream",
          "name": "stdout",
          "text": [
            "Feature names after preprocessing: ['MinTemp', 'MaxTemp', 'Rainfall', 'Evaporation', 'Sunshine', 'WindGustSpeed', 'WindSpeed9am', 'WindSpeed3pm', 'Humidity9am', 'Humidity3pm', 'Pressure9am', 'Pressure3pm', 'Cloud9am', 'Cloud3pm', 'Temp9am', 'Temp3pm', 'Year', 'Month', 'Day', 'Year', 'Month', 'Day', 'Location_Adelaide', 'Location_Albany', 'Location_Albury', 'Location_AliceSprings', 'Location_BadgerysCreek', 'Location_Ballarat', 'Location_Bendigo', 'Location_Brisbane', 'Location_Cairns', 'Location_Canberra', 'Location_Cobar', 'Location_CoffsHarbour', 'Location_Dartmoor', 'Location_Darwin', 'Location_GoldCoast', 'Location_Hobart', 'Location_Katherine', 'Location_Launceston', 'Location_Melbourne', 'Location_MelbourneAirport', 'Location_Mildura', 'Location_Moree', 'Location_MountGambier', 'Location_MountGinini', 'Location_Newcastle', 'Location_Nhil', 'Location_NorahHead', 'Location_NorfolkIsland', 'Location_Nuriootpa', 'Location_PearceRAAF', 'Location_Penrith', 'Location_Perth', 'Location_PerthAirport', 'Location_Portland', 'Location_Richmond', 'Location_Sale', 'Location_SalmonGums', 'Location_Sydney', 'Location_SydneyAirport', 'Location_Townsville', 'Location_Tuggeranong', 'Location_Uluru', 'Location_WaggaWagga', 'Location_Walpole', 'Location_Watsonia', 'Location_Williamtown', 'Location_Witchcliffe', 'Location_Wollongong', 'Location_Woomera', 'WindGustDir_E', 'WindGustDir_ENE', 'WindGustDir_ESE', 'WindGustDir_N', 'WindGustDir_NE', 'WindGustDir_NNE', 'WindGustDir_NNW', 'WindGustDir_NW', 'WindGustDir_S', 'WindGustDir_SE', 'WindGustDir_SSE', 'WindGustDir_SSW', 'WindGustDir_SW', 'WindGustDir_W', 'WindGustDir_WNW', 'WindGustDir_WSW', 'WindDir9am_E', 'WindDir9am_ENE', 'WindDir9am_ESE', 'WindDir9am_N', 'WindDir9am_NE', 'WindDir9am_NNE', 'WindDir9am_NNW', 'WindDir9am_NW', 'WindDir9am_S', 'WindDir9am_SE', 'WindDir9am_SSE', 'WindDir9am_SSW', 'WindDir9am_SW', 'WindDir9am_W', 'WindDir9am_WNW', 'WindDir9am_WSW', 'WindDir3pm_E', 'WindDir3pm_ENE', 'WindDir3pm_ESE', 'WindDir3pm_N', 'WindDir3pm_NE', 'WindDir3pm_NNE', 'WindDir3pm_NNW', 'WindDir3pm_NW', 'WindDir3pm_S', 'WindDir3pm_SE', 'WindDir3pm_SSE', 'WindDir3pm_SSW', 'WindDir3pm_SW', 'WindDir3pm_W', 'WindDir3pm_WNW', 'WindDir3pm_WSW', 'RainToday_No', 'RainToday_Yes']\n"
          ]
        }
      ]
    },
    {
      "cell_type": "markdown",
      "source": [
        "**LOGISTIC REGESSION**"
      ],
      "metadata": {
        "id": "0js18Oz8DN61"
      }
    },
    {
      "cell_type": "markdown",
      "source": [
        "After preprocessing our dataset, the next critical step is to train a machine learning model and evaluate its performance. Here, we utilize a Logistic Regression model, a popular choice for binary classification tasks like predicting whether it will rain tomorrow.\n",
        "\n",
        "### Initializing and Training the Logistic Regression Model\n",
        "\n",
        "We initialize the Logistic Regression model with `max_iter=1000` to ensure convergence and `solver='lbfgs'` for optimization. We also set a `random_state` for reproducibility of results.\n",
        "\n",
        "### Output:\n",
        "The output shows that our Logistic Regression model achieves a training accuracy of approximately 84.9% and a test accuracy of approximately 84.5%. The classification reports provide a deeper insight into the model's performance across the different classes, indicating how well it predicts rain occurrences. Notably, while the model shows a high precision and recall for the 'No rain' class, its performance is less impressive for the 'Rain' class, highlighting potential areas for improvement."
      ],
      "metadata": {
        "id": "PL4tW0vftW7C"
      }
    },
    {
      "cell_type": "code",
      "source": [
        "# Initialize the Logistic Regression model\n",
        "logistic_model = LogisticRegression(max_iter=1000, solver='lbfgs', random_state=42)\n",
        "\n",
        "# Fit the model on the preprocessed training data\n",
        "logistic_model.fit(X_train_df, y_train)\n",
        "\n",
        "# Predict on the training data\n",
        "y_train_pred = logistic_model.predict(X_train_df)\n",
        "\n",
        "# Evaluate the model performance on the training set\n",
        "train_accuracy = accuracy_score(y_train, y_train_pred)\n",
        "print(\"Training Accuracy:\", train_accuracy)\n",
        "print(\"Training Classification Report:\\n\", classification_report(y_train, y_train_pred))\n",
        "\n",
        "# Predict on the preprocessed test data\n",
        "y_test_pred = logistic_model.predict(X_test_df)\n",
        "\n",
        "# Evaluate the model performance on the test set\n",
        "test_accuracy = accuracy_score(y_test, y_test_pred)\n",
        "print(\"Test Accuracy:\", test_accuracy)\n",
        "print(\"Test Classification Report:\\n\", classification_report(y_test, y_test_pred))"
      ],
      "metadata": {
        "colab": {
          "base_uri": "https://localhost:8080/"
        },
        "id": "mdu0DW3bupC1",
        "outputId": "d3d90c7f-3ae8-469f-b34b-7c06f48c8c21"
      },
      "execution_count": null,
      "outputs": [
        {
          "output_type": "stream",
          "name": "stdout",
          "text": [
            "Training Accuracy: 0.8489547620303461\n",
            "Training Classification Report:\n",
            "               precision    recall  f1-score   support\n",
            "\n",
            "           0       0.87      0.95      0.91     88218\n",
            "           1       0.73      0.52      0.60     25536\n",
            "\n",
            "    accuracy                           0.85    113754\n",
            "   macro avg       0.80      0.73      0.76    113754\n",
            "weighted avg       0.84      0.85      0.84    113754\n",
            "\n",
            "Test Accuracy: 0.8452828861774324\n",
            "Test Classification Report:\n",
            "               precision    recall  f1-score   support\n",
            "\n",
            "           0       0.87      0.94      0.90     22098\n",
            "           1       0.71      0.51      0.59      6341\n",
            "\n",
            "    accuracy                           0.85     28439\n",
            "   macro avg       0.79      0.73      0.75     28439\n",
            "weighted avg       0.84      0.85      0.84     28439\n",
            "\n"
          ]
        }
      ]
    },
    {
      "cell_type": "markdown",
      "source": [
        "Visualizing the performance of our classification model can provide deeper insights beyond the numerical metrics. One of the most informative visualizations for classification tasks is the confusion matrix, which shows the number of correct and incorrect predictions broken down by each class. This visualization helps us understand not just the overall accuracy, but also how well the model performs in distinguishing between the classes.\n",
        "\n",
        "### Visualizing the Confusion Matrix\n",
        "\n",
        "To visualize the confusion matrix, we first calculate it using the `confusion_matrix` function from `sklearn.metrics`. Then, we use Seaborn's heatmap functionality to create a more intuitive and visually appealing representation of the confusion matrix."
      ],
      "metadata": {
        "id": "IqIsYruGuG9Q"
      }
    },
    {
      "cell_type": "code",
      "source": [
        "import seaborn as sns\n",
        "import matplotlib.pyplot as plt\n",
        "from sklearn.metrics import confusion_matrix\n",
        "\n",
        "# Calculate the confusion matrix\n",
        "cm = confusion_matrix(y_test, y_test_pred)\n",
        "\n",
        "# Create labels for the classes\n",
        "class_labels = ['No Rain', 'Rain']\n",
        "\n",
        "# Create a pandas DataFrame from the confusion matrix\n",
        "cm_df = pd.DataFrame(cm, index=class_labels, columns=class_labels)\n",
        "\n",
        "# Plot the heatmap\n",
        "plt.figure(figsize=(8, 6))\n",
        "sns.heatmap(cm_df, annot=True, fmt='d', cmap='Blues', cbar=False)\n",
        "plt.title('Confusion Matrix')\n",
        "plt.xlabel('Predicted Labels')\n",
        "plt.ylabel('True Labels')\n",
        "plt.show()\n"
      ],
      "metadata": {
        "colab": {
          "base_uri": "https://localhost:8080/",
          "height": 564
        },
        "id": "gtdgeJYmv61m",
        "outputId": "140d1440-2a2a-4847-820e-6a95ae5647be"
      },
      "execution_count": null,
      "outputs": [
        {
          "output_type": "display_data",
          "data": {
            "text/plain": [
              "<Figure size 800x600 with 1 Axes>"
            ],
            "image/png": "[encoded data removed]"
          },
          "metadata": {}
        }
      ]
    },
    {
      "cell_type": "markdown",
      "source": [
        "After generating the confusion matrix, we can further analyze the model's performance by calculating several important metrics. These metrics include the classification error (misclassification rate), precision, recall (sensitivity or true positive rate), F1 score, and specificity (true negative rate). Each metric provides unique insights into the model's ability to correctly or incorrectly classify observations.\n",
        "### Output:\n",
        "\n",
        "\n",
        "*   Classification Error: Indicates the proportion of total predictions that were incorrect. A lower classification error suggests a better-performing model.\n",
        "*   Precision: Measures the accuracy of positive predictions. In the context of predicting rain, it indicates how reliable the model is when it forecasts rain.\n",
        "*   Recall (Sensitivity): Reflects the model's ability to correctly identify actual positives. A higher recall means the model is better at catching all positive cases (rain days).\n",
        "*   F1 Score: Provides a single score that balances both precision and recall, useful when you want to balance the importance of false positives and false negatives.\n",
        "*   Specificity: Measures the model's ability to correctly identify actual negatives. High specificity indicates the model is good at avoiding false alarms."
      ],
      "metadata": {
        "id": "q-SzyA_FukMX"
      }
    },
    {
      "cell_type": "code",
      "source": [
        "# Assuming 'cm' is the confusion matrix you've already calculated\n",
        "TP = cm[1, 1]  # True Positives: Rain correctly predicted as Rain\n",
        "TN = cm[0, 0]  # True Negatives: No Rain correctly predicted as No Rain\n",
        "FP = cm[0, 1]  # False Positives: No Rain incorrectly predicted as Rain\n",
        "FN = cm[1, 0]  # False Negatives: Rain incorrectly predicted as No Rain\n",
        "\n",
        "# Classification Error (Misclassification Rate): Overall, how often is the classifier incorrect?\n",
        "classification_error = (FP + FN) / float(TP + TN + FP + FN)\n",
        "print(f'Classification Error: {classification_error}')\n",
        "\n",
        "# Precision: When it predicts Rain, how often is it correct?\n",
        "precision = TP / float(TP + FP)\n",
        "print(f'Precision: {precision}')\n",
        "\n",
        "# Recall (Sensitivity or True Positive Rate): How often is the prediction correct when it's actually Rain?\n",
        "recall = TP / float(FN + TP)\n",
        "print(f'Recall: {recall}')\n",
        "\n",
        "# F1 Score: A weighted average of Precision and Recall.\n",
        "f1_score = 2 * (precision * recall) / (precision + recall)\n",
        "print(f'F1 Score: {f1_score}')\n",
        "\n",
        "# Specificity (True Negative Rate): How often is the prediction correct when it's actually No Rain?\n",
        "specificity = TN / (TN + FP)\n",
        "print(f'Specificity: {specificity}')\n"
      ],
      "metadata": {
        "colab": {
          "base_uri": "https://localhost:8080/"
        },
        "id": "E_v_dtHLwecJ",
        "outputId": "49d6761b-876d-4630-da56-138b151019d4"
      },
      "execution_count": null,
      "outputs": [
        {
          "output_type": "stream",
          "name": "stdout",
          "text": [
            "Classification Error: 0.15471711382256761\n",
            "Precision: 0.714759902633326\n",
            "Recall: 0.5093833780160858\n",
            "F1 Score: 0.5948434622467771\n",
            "Specificity: 0.9416689293148701\n"
          ]
        }
      ]
    },
    {
      "cell_type": "markdown",
      "source": [
        "In evaluating the performance of our binary classification model, the Receiver Operating Characteristic (ROC) curve and the Area Under the Curve (ROC-AUC) score are powerful tools. The ROC curve plots the True Positive Rate (TPR) against the False Positive Rate (FPR) at various threshold settings, providing insights into the balance between true positive outcomes and false positives. The ROC-AUC score quantifies the overall ability of the model to discriminate between the positive and negative classes across all thresholds.\n",
        "\n",
        "### Generating the ROC Curve and Calculating the ROC-AUC Score\n",
        "#### Finding the Optimal Threshold\n",
        "The optimal threshold balances sensitivity and specificity, maximizing the model's ability to correctly classify positive instances while minimizing false positives\n",
        "#### Visualizing the ROC Curve\n",
        "We plot the ROC curve to visualize the trade-off between TPR and FPR at different thresholds, including marking the optimal threshold identified.\n",
        "#### Adjusting Predictions Based on the Optimal Threshold\n",
        "After identifying the optimal threshold, we can adjust our model's predictions, which can improve the model's classification performance by considering this threshold.ed."
      ],
      "metadata": {
        "id": "JsJP-3JMvoPH"
      }
    },
    {
      "cell_type": "code",
      "source": [
        "from sklearn.metrics import roc_curve, roc_auc_score, auc\n",
        "import numpy as np\n",
        "\n",
        "# Predict probabilities for the test set\n",
        "y_probs = logistic_model.predict_proba(X_test_df)[:, 1]  # Get probabilities of the positive class\n",
        "\n",
        "# Calculate ROC curve\n",
        "fpr, tpr, thresholds = roc_curve(y_test, y_probs)\n",
        "\n",
        "# Calculate the ROC-AUC score\n",
        "roc_auc = roc_auc_score(y_test, y_probs)\n",
        "print(f\"ROC-AUC Score: {roc_auc}\")\n",
        "\n",
        "# Find the optimal threshold\n",
        "optimal_idx = np.argmax(tpr - fpr)  # Difference between True Positive Rate and False Positive Rate\n",
        "optimal_threshold = thresholds[optimal_idx]\n",
        "print(f\"Optimal Threshold: {optimal_threshold}\")\n",
        "\n",
        "# Plot ROC curve\n",
        "plt.figure(figsize=(8, 6))\n",
        "plt.plot(fpr, tpr, label=f'ROC curve (area = {roc_auc:.2f})')\n",
        "plt.plot([0, 1], [0, 1], 'k--')  # Random predictions curve\n",
        "plt.plot(fpr[optimal_idx], tpr[optimal_idx], 'ro')  # Optimal threshold point\n",
        "plt.xlabel('False Positive Rate')\n",
        "plt.ylabel('True Positive Rate')\n",
        "plt.title('Receiver Operating Characteristic (ROC) Curve')\n",
        "plt.legend(loc=\"lower right\")\n",
        "plt.show()\n",
        "\n",
        "# Adjust predictions based on the optimal threshold\n",
        "y_pred_adjusted = np.where(y_probs >= optimal_threshold, 1, 0)\n",
        "\n",
        "# Evaluate performance with the new threshold\n",
        "print(\"Adjusted Classification Report:\\n\", classification_report(y_test, y_pred_adjusted))\n"
      ],
      "metadata": {
        "colab": {
          "base_uri": "https://localhost:8080/",
          "height": 772
        },
        "id": "yFsvRJJnxmBp",
        "outputId": "1553c738-7ff8-4326-a744-3347da1e3814"
      },
      "execution_count": null,
      "outputs": [
        {
          "output_type": "stream",
          "name": "stdout",
          "text": [
            "ROC-AUC Score: 0.8666000282693647\n",
            "Optimal Threshold: 0.1853389290812578\n"
          ]
        },
        {
          "output_type": "display_data",
          "data": {
            "text/plain": [
              "<Figure size 800x600 with 1 Axes>"
            ],
            "image/png": "[encoded data removed]"
          },
          "metadata": {}
        },
        {
          "output_type": "stream",
          "name": "stdout",
          "text": [
            "Adjusted Classification Report:\n",
            "               precision    recall  f1-score   support\n",
            "\n",
            "           0       0.93      0.75      0.83     22098\n",
            "           1       0.48      0.82      0.61      6341\n",
            "\n",
            "    accuracy                           0.76     28439\n",
            "   macro avg       0.71      0.78      0.72     28439\n",
            "weighted avg       0.83      0.76      0.78     28439\n",
            "\n"
          ]
        }
      ]
    },
    {
      "cell_type": "markdown",
      "source": [
        "Cross-validation is a robust method for assessing the performance of a machine learning model. It involves splitting the training dataset into `k` smaller sets (or folds), then training the model `k` times, each time using a different fold as the validation set and the remaining `k-1` folds as the training set. This process helps in evaluating the model's ability to generalize to an independent dataset and mitigates the problem of overfitting.\n",
        "\n",
        "### Performing K-Fold Cross-Validation\n",
        "\n",
        "In this section, we use 10-fold cross-validation to assess the performance of our Logistic Regression model. This method splits the training data into 10 parts, trains the model on 9 parts, and tests it on the remaining part. This process repeats 10 times, each time with a different part used as the test set.\n",
        "### Output\n",
        "Cross-Validation Accuracy: The average accuracy across all folds gives us an estimate of how the model is expected to perform on unseen data. An accuracy of 0.8484 suggests that our Logistic Regression model is quite reliable in its predictions.\n",
        "\n",
        "Standard Deviation of CV Accuracy: The standard deviation indicates the variability of the model's accuracy across the folds. A low standard deviation (0.0028 in this case) implies that the model's performance is consistent across different subsets of the training data, enhancing our confidence in the model's stability and generalizability."
      ],
      "metadata": {
        "id": "gYRjaYMAwU7l"
      }
    },
    {
      "cell_type": "code",
      "source": [
        "from sklearn.model_selection import cross_val_score\n",
        "\n",
        "# Initialize the Logistic Regression model\n",
        "logistic_model_cv = LogisticRegression(max_iter=1000, solver='lbfgs', random_state=42)\n",
        "\n",
        "# Perform k-fold cross-validation (let's use k=10)\n",
        "cv_scores = cross_val_score(logistic_model_cv, X_train_df, y_train, cv=10)\n",
        "\n",
        "# Compute the average accuracy and standard deviation\n",
        "cv_accuracy = np.mean(cv_scores)\n",
        "cv_std = np.std(cv_scores)\n",
        "\n",
        "print(f\"10-Fold Cross-Validation Accuracy: {cv_accuracy:.4f}\")\n",
        "print(f\"Standard Deviation of CV Accuracy: {cv_std:.4f}\")\n"
      ],
      "metadata": {
        "colab": {
          "base_uri": "https://localhost:8080/"
        },
        "id": "JEpdZtF7x2a_",
        "outputId": "0bdd7fc9-c656-43e1-ed73-fb28c7b996f2"
      },
      "execution_count": null,
      "outputs": [
        {
          "output_type": "stream",
          "name": "stdout",
          "text": [
            "10-Fold Cross-Validation Accuracy: 0.8484\n",
            "Standard Deviation of CV Accuracy: 0.0028\n"
          ]
        }
      ]
    },
    {
      "cell_type": "markdown",
      "source": [
        "**Checking whether model has overfitting / underfitting problem? Tuning the regularization hyperparameter to fix the problem:**"
      ],
      "metadata": {
        "id": "qlTP8grMw9bW"
      }
    },
    {
      "cell_type": "code",
      "source": [
        "from sklearn.linear_model import LogisticRegression\n",
        "from sklearn.model_selection import cross_val_score, GridSearchCV\n",
        "from sklearn.metrics import accuracy_score, classification_report\n",
        "import numpy as np\n",
        "\n",
        "# Assuming X_train_df, X_test_df, y_train, y_test are already defined from the previous preprocessing steps\n",
        "\n",
        "# Define the model\n",
        "model = LogisticRegression(max_iter=1000, solver='lbfgs', random_state=42)\n",
        "\n",
        "# Define the parameter grid\n",
        "param_grid = {'C': [0.001, 0.01, 0.1, 1, 10, 100]}\n",
        "\n",
        "# Perform Grid Search with Cross-Validation\n",
        "grid_search = GridSearchCV(model, param_grid, cv=5, scoring='accuracy')\n",
        "\n",
        "# Fit the grid search to the data\n",
        "grid_search.fit(X_train_df, y_train)\n",
        "\n",
        "print(f\"Best Hyperparameters: {grid_search.best_params_}\")\n",
        "print(f\"Best Cross-Validation Score: {grid_search.best_score_:.4f}\")\n",
        "\n",
        "# Compare with the baseline model accuracy\n",
        "baseline_model = LogisticRegression(max_iter=1000, solver='lbfgs', random_state=42)\n",
        "baseline_scores = cross_val_score(baseline_model, X_train_df, y_train, cv=5)\n",
        "baseline_accuracy = np.mean(baseline_scores)\n",
        "print(f\"Baseline Model Accuracy: {baseline_accuracy:.4f}\")\n",
        "\n",
        "# Evaluate the tuned model on the test set\n",
        "best_model = grid_search.best_estimator_\n",
        "y_test_pred = best_model.predict(X_test_df)\n",
        "test_accuracy = accuracy_score(y_test, y_test_pred)\n",
        "print(f\"Test Accuracy with Tuned Hyperparameters: {test_accuracy:.4f}\")\n",
        "\n",
        "# Interpretation based on cross-validation and test accuracy\n",
        "if grid_search.best_score_ > baseline_accuracy and test_accuracy < grid_search.best_score_ - 0.05:\n",
        "    print(\"The model might be overfitting as the cross-validation score is significantly higher than the test accuracy.\")\n",
        "elif grid_search.best_score_ < baseline_accuracy and test_accuracy < 0.7:\n",
        "    print(\"The model might be underfitting as both cross-validation and test accuracies are low.\")\n",
        "else:\n",
        "    print(\"The model performance is balanced, with no clear signs of overfitting or underfitting.\")\n"
      ],
      "metadata": {
        "colab": {
          "base_uri": "https://localhost:8080/"
        },
        "id": "So5Pl27Pk4QO",
        "outputId": "95d7fd1b-5017-470a-daeb-a402a122fd4d"
      },
      "execution_count": null,
      "outputs": [
        {
          "output_type": "stream",
          "name": "stdout",
          "text": [
            "Best Hyperparameters: {'C': 1}\n",
            "Best Cross-Validation Score: 0.8485\n",
            "Baseline Model Accuracy: 0.8485\n",
            "Test Accuracy with Tuned Hyperparameters: 0.8453\n",
            "The model performance is balanced, with no clear signs of overfitting or underfitting.\n"
          ]
        }
      ]
    },
    {
      "cell_type": "markdown",
      "source": [
        "**NAIVE BAYES**"
      ],
      "metadata": {
        "id": "YM1fIJpyDd9F"
      }
    },
    {
      "cell_type": "markdown",
      "source": [
        "**Fitting the model Naïve Bayes classifier**:"
      ],
      "metadata": {
        "id": "0IglN3BnxIMf"
      }
    },
    {
      "cell_type": "code",
      "source": [
        "from sklearn.naive_bayes import GaussianNB\n",
        "from sklearn.metrics import accuracy_score, classification_report\n",
        "\n",
        "# Initialize the Naive Bayes classifier\n",
        "nb_classifier = GaussianNB()\n",
        "\n",
        "# Fit the classifier on the preprocessed training data\n",
        "nb_classifier.fit(X_train_df, y_train)\n",
        "\n",
        "# Predict on the training data\n",
        "y_train_pred_nb = nb_classifier.predict(X_train_df)\n",
        "\n",
        "# Evaluate the model performance on the training set\n",
        "train_accuracy_nb = accuracy_score(y_train, y_train_pred_nb)\n",
        "print(\"Training Accuracy (Naive Bayes):\", train_accuracy_nb)\n",
        "print(\"Training Classification Report (Naive Bayes):\\n\", classification_report(y_train, y_train_pred_nb))\n",
        "\n",
        "# Predict on the preprocessed test data\n",
        "y_test_pred_nb = nb_classifier.predict(X_test_df)\n",
        "\n",
        "# Evaluate the model performance on the test set\n",
        "test_accuracy_nb = accuracy_score(y_test, y_test_pred_nb)\n",
        "print(\"Test Accuracy (Naive Bayes):\", test_accuracy_nb)\n",
        "print(\"Test Classification Report (Naive Bayes):\\n\", classification_report(y_test, y_test_pred_nb))\n"
      ],
      "metadata": {
        "colab": {
          "base_uri": "https://localhost:8080/"
        },
        "id": "rehv5w-S-_Hd",
        "outputId": "640ff3f3-062a-4833-a7f3-d7e2821948e2"
      },
      "execution_count": null,
      "outputs": [
        {
          "output_type": "stream",
          "name": "stdout",
          "text": [
            "Training Accuracy (Naive Bayes): 0.6559681417796297\n",
            "Training Classification Report (Naive Bayes):\n",
            "               precision    recall  f1-score   support\n",
            "\n",
            "           0       0.89      0.64      0.74     88218\n",
            "           1       0.36      0.72      0.48     25536\n",
            "\n",
            "    accuracy                           0.66    113754\n",
            "   macro avg       0.63      0.68      0.61    113754\n",
            "weighted avg       0.77      0.66      0.68    113754\n",
            "\n",
            "Test Accuracy (Naive Bayes): 0.6509019304476248\n",
            "Test Classification Report (Naive Bayes):\n",
            "               precision    recall  f1-score   support\n",
            "\n",
            "           0       0.89      0.63      0.74     22098\n",
            "           1       0.36      0.72      0.48      6341\n",
            "\n",
            "    accuracy                           0.65     28439\n",
            "   macro avg       0.62      0.67      0.61     28439\n",
            "weighted avg       0.77      0.65      0.68     28439\n",
            "\n"
          ]
        }
      ]
    },
    {
      "cell_type": "markdown",
      "source": [
        "**Summarizing the performance of a classification algorithm using confusion matrix and visualizing confusion matrix with seaborn heatmap:**"
      ],
      "metadata": {
        "id": "Pz5nDuf3xSx3"
      }
    },
    {
      "cell_type": "code",
      "source": [
        "import matplotlib.pyplot as plt\n",
        "import seaborn as sns\n",
        "from sklearn.metrics import confusion_matrix\n",
        "\n",
        "# Calculate the confusion matrix for the Naive Bayes classifier on the test data\n",
        "cm_nb = confusion_matrix(y_test, y_test_pred_nb)\n",
        "\n",
        "# Create a pandas DataFrame from the confusion matrix for better label handling in the heatmap\n",
        "cm_df_nb = pd.DataFrame(cm_nb,\n",
        "                        index=['Actual No Rain', 'Actual Rain'],\n",
        "                        columns=['Predicted No Rain', 'Predicted Rain'])\n",
        "\n",
        "# Plot the heatmap\n",
        "plt.figure(figsize=(8, 6))\n",
        "sns.heatmap(cm_df_nb, annot=True, fmt=\"d\", cmap='Blues', cbar=False)\n",
        "plt.title('Confusion Matrix - Naive Bayes Classifier')\n",
        "plt.ylabel('Actual')\n",
        "plt.xlabel('Predicted')\n",
        "plt.show()\n"
      ],
      "metadata": {
        "colab": {
          "base_uri": "https://localhost:8080/",
          "height": 564
        },
        "id": "7lGE2UUy_Huf",
        "outputId": "be698119-762a-4109-99d0-0896a2caebf4"
      },
      "execution_count": null,
      "outputs": [
        {
          "output_type": "display_data",
          "data": {
            "text/plain": [
              "<Figure size 800x600 with 1 Axes>"
            ],
            "image/png": "[encoded data removed]"
          },
          "metadata": {}
        }
      ]
    },
    {
      "cell_type": "markdown",
      "source": [
        "**Displaying the Classification error, Precision, Recall , F1 score and  Specificity scores for the model:**"
      ],
      "metadata": {
        "id": "j_F06WJuxZwj"
      }
    },
    {
      "cell_type": "code",
      "source": [
        "from sklearn.metrics import precision_score, recall_score, f1_score\n",
        "\n",
        "# Assuming 'cm_nb' is the confusion matrix for the Naive Bayes model\n",
        "TP = cm_nb[1, 1]  # True Positives\n",
        "TN = cm_nb[0, 0]  # True Negatives\n",
        "FP = cm_nb[0, 1]  # False Positives\n",
        "FN = cm_nb[1, 0]  # False Negatives\n",
        "\n",
        "# Classification Error (also known as Misclassification Rate)\n",
        "classification_error = (FP + FN) / float(TP + TN + FP + FN)\n",
        "print(f'Classification Error: {classification_error}')\n",
        "\n",
        "# Precision\n",
        "precision = precision_score(y_test, y_test_pred_nb)  # Or TP / float(TP + FP)\n",
        "print(f'Precision: {precision}')\n",
        "\n",
        "# Recall (Sensitivity or True Positive Rate)\n",
        "recall = recall_score(y_test, y_test_pred_nb)  # Or TP / float(FN + TP)\n",
        "print(f'Recall: {recall}')\n",
        "\n",
        "# F1 Score\n",
        "f1 = f1_score(y_test, y_test_pred_nb)  # Or 2 * (precision * recall) / (precision + recall)\n",
        "print(f'F1 Score: {f1}')\n",
        "\n",
        "# Specificity (True Negative Rate)\n",
        "specificity = TN / (TN + FP)\n",
        "print(f'Specificity: {specificity}')\n"
      ],
      "metadata": {
        "colab": {
          "base_uri": "https://localhost:8080/"
        },
        "id": "Lj_XBUHC_a9G",
        "outputId": "c35721c9-672c-42da-c8f1-755506c13c70"
      },
      "execution_count": null,
      "outputs": [
        {
          "output_type": "stream",
          "name": "stdout",
          "text": [
            "Classification Error: 0.34909806955237527\n",
            "Precision: 0.3582997550762424\n",
            "Recall: 0.7151868790411607\n",
            "F1 Score: 0.4774186756500684\n",
            "Specificity: 0.6324554258303919\n"
          ]
        }
      ]
    },
    {
      "cell_type": "markdown",
      "source": [
        "**Adjusting the classification threshold levels/decision boundary to improve the performance of the classifier using ROC curve & ROC-AUC score:**"
      ],
      "metadata": {
        "id": "2KvpoteXxf7U"
      }
    },
    {
      "cell_type": "code",
      "source": [
        "from sklearn.metrics import roc_curve, roc_auc_score\n",
        "import matplotlib.pyplot as plt\n",
        "\n",
        "# Predict probabilities for the test set\n",
        "y_probs_nb = nb_classifier.predict_proba(X_test_df)[:, 1]  # Probabilities of the positive class\n",
        "\n",
        "# Calculate ROC curve\n",
        "fpr_nb, tpr_nb, thresholds_nb = roc_curve(y_test, y_probs_nb)\n",
        "\n",
        "# Calculate the ROC-AUC score\n",
        "roc_auc_nb = roc_auc_score(y_test, y_probs_nb)\n",
        "print(f\"ROC-AUC Score (Naive Bayes): {roc_auc_nb}\")\n",
        "\n",
        "# Plot ROC curve\n",
        "plt.figure(figsize=(8, 6))\n",
        "plt.plot(fpr_nb, tpr_nb, label=f'Naive Bayes (AUC = {roc_auc_nb:.2f})')\n",
        "plt.plot([0, 1], [0, 1], 'k--')  # Dashed diagonal line\n",
        "plt.xlabel('False Positive Rate')\n",
        "plt.ylabel('True Positive Rate')\n",
        "plt.title('ROC Curve - Naive Bayes Classifier')\n",
        "plt.legend(loc=\"lower right\")\n",
        "plt.show()\n",
        "\n",
        "# Optional: Find an optimal threshold (example method based on Youden’s J statistic)\n",
        "optimal_idx_nb = np.argmax(tpr_nb - fpr_nb)\n",
        "optimal_threshold_nb = thresholds_nb[optimal_idx_nb]\n",
        "print(f\"Optimal Threshold based on Youden's J statistic: {optimal_threshold_nb}\")\n"
      ],
      "metadata": {
        "colab": {
          "base_uri": "https://localhost:8080/",
          "height": 599
        },
        "id": "dR60BE5-AmwB",
        "outputId": "a3f09afa-43c5-424d-d40f-1857bb60cc8c"
      },
      "execution_count": null,
      "outputs": [
        {
          "output_type": "stream",
          "name": "stdout",
          "text": [
            "ROC-AUC Score (Naive Bayes): 0.7387315944576802\n"
          ]
        },
        {
          "output_type": "display_data",
          "data": {
            "text/plain": [
              "<Figure size 800x600 with 1 Axes>"
            ],
            "image/png": "[encoded data removed]"
          },
          "metadata": {}
        },
        {
          "output_type": "stream",
          "name": "stdout",
          "text": [
            "Optimal Threshold based on Youden's J statistic: 0.9295274846886432\n"
          ]
        }
      ]
    },
    {
      "cell_type": "markdown",
      "source": [
        "**Performing k-fold cross validation and check whether the cross-validation results in performance improvement or not:**"
      ],
      "metadata": {
        "id": "r2EGt4krxs_I"
      }
    },
    {
      "cell_type": "code",
      "source": [
        "from sklearn.model_selection import cross_val_score\n",
        "from sklearn.naive_bayes import GaussianNB\n",
        "\n",
        "# Assuming X_train_df and y_train are already defined and preprocessed\n",
        "\n",
        "# Initialize the Naive Bayes classifier\n",
        "nb_classifier_cv = GaussianNB()\n",
        "\n",
        "# Perform 10-fold cross-validation\n",
        "cv_scores_nb = cross_val_score(nb_classifier_cv, X_train_df, y_train, cv=10, scoring='accuracy')\n",
        "\n",
        "# Compute the average accuracy and standard deviation\n",
        "cv_accuracy_nb = np.mean(cv_scores_nb)\n",
        "cv_std_nb = np.std(cv_scores_nb)\n",
        "\n",
        "print(f\"10-Fold Cross-Validation Accuracy (Naive Bayes): {cv_accuracy_nb:.4f}\")\n",
        "print(f\"Standard Deviation of CV Accuracy (Naive Bayes): {cv_std_nb:.4f}\")\n",
        "\n",
        "# Interpretation\n",
        "if cv_accuracy_nb > 0.75 and cv_std_nb < 0.05:\n",
        "    print(\"The model has high and consistent accuracy across folds, indicating good performance and generalization.\")\n",
        "elif cv_accuracy_nb > 0.75 and cv_std_nb >= 0.05:\n",
        "    print(\"The model has high accuracy but with variability across folds, indicating potential overfitting to certain subsets.\")\n",
        "elif cv_accuracy_nb <= 0.75:\n",
        "    print(\"The model shows room for improvement in accuracy across folds.\")\n"
      ],
      "metadata": {
        "colab": {
          "base_uri": "https://localhost:8080/"
        },
        "id": "mzw3HaliAsYQ",
        "outputId": "695fcbd8-cac7-4a9a-ef64-d0c29d1d8da2"
      },
      "execution_count": null,
      "outputs": [
        {
          "output_type": "stream",
          "name": "stdout",
          "text": [
            "10-Fold Cross-Validation Accuracy (Naive Bayes): 0.6551\n",
            "Standard Deviation of CV Accuracy (Naive Bayes): 0.0061\n",
            "The model shows room for improvement in accuracy across folds.\n"
          ]
        }
      ]
    },
    {
      "cell_type": "markdown",
      "source": [
        "**Perform k-fold cross validation and check whether the cross-validation results in performance improvement or not:**"
      ],
      "metadata": {
        "id": "hRu3Vyojx3cU"
      }
    },
    {
      "cell_type": "code",
      "source": [
        "from sklearn.feature_selection import SelectKBest, f_classif\n",
        "from sklearn.model_selection import GridSearchCV\n",
        "from sklearn.pipeline import make_pipeline\n",
        "from sklearn.naive_bayes import GaussianNB\n",
        "\n",
        "# Define a pipeline that selects the k best features and then performs Gaussian Naive Bayes\n",
        "pipeline = make_pipeline(SelectKBest(f_classif), GaussianNB())\n",
        "\n",
        "# Define the parameter grid to search over\n",
        "param_grid = {'selectkbest__k': [10, 20, 30, 40, 50]}  # Adjust these values based on the total number of features\n",
        "\n",
        "# Perform Grid Search with Cross-Validation\n",
        "grid_search = GridSearchCV(pipeline, param_grid, cv=5, scoring='accuracy')\n",
        "\n",
        "# Fit the grid search to the data\n",
        "grid_search.fit(X_train_df, y_train)\n",
        "\n",
        "print(f\"Best Hyperparameters: {grid_search.best_params_}\")\n",
        "print(f\"Best Cross-Validation Score: {grid_search.best_score_:.4f}\")\n"
      ],
      "metadata": {
        "colab": {
          "base_uri": "https://localhost:8080/"
        },
        "id": "7ArqDQpUBhcb",
        "outputId": "878906eb-1706-478d-f5f0-4e74c16ad41b"
      },
      "execution_count": null,
      "outputs": [
        {
          "output_type": "stream",
          "name": "stdout",
          "text": [
            "Best Hyperparameters: {'selectkbest__k': 10}\n",
            "Best Cross-Validation Score: 0.7922\n"
          ]
        }
      ]
    },
    {
      "cell_type": "markdown",
      "source": [
        "**Check whether model has overfitting / underfitting problem and tuning the regularization hyperparameter to fix the problem:**"
      ],
      "metadata": {
        "id": "PaFyThrnyERy"
      }
    },
    {
      "cell_type": "code",
      "source": [
        "from sklearn.model_selection import cross_val_score, GridSearchCV\n",
        "from sklearn.feature_selection import SelectKBest, f_classif\n",
        "from sklearn.pipeline import Pipeline\n",
        "from sklearn.naive_bayes import GaussianNB\n",
        "import numpy as np\n",
        "\n",
        "# Assuming X_train_df and y_train are defined and preprocessed\n",
        "\n",
        "# Create a pipeline with feature selection and Naive Bayes classifier\n",
        "pipeline = Pipeline([\n",
        "    ('feature_selection', SelectKBest(f_classif)),\n",
        "    ('nb', GaussianNB())\n",
        "])\n",
        "\n",
        "# Define parameters for grid search (number of features to select)\n",
        "param_grid = {\n",
        "    'feature_selection__k': [10, 20, 30, 40, 50]  # Adjust these numbers based on your total number of features\n",
        "}\n",
        "\n",
        "# Setup the grid search with cross-validation\n",
        "grid_search = GridSearchCV(pipeline, param_grid=param_grid, cv=5, scoring='accuracy')\n",
        "\n",
        "# Fit the grid search to the data\n",
        "grid_search.fit(X_train_df, y_train)\n",
        "\n",
        "print(\"Best parameters:\", grid_search.best_params_)\n",
        "print(\"Best cross-validation score: {:.2f}\".format(grid_search.best_score_))\n",
        "\n",
        "# Evaluate on the test set using the best found parameters\n",
        "best_model = grid_search.best_estimator_\n",
        "test_score = best_model.score(X_test_df, y_test)\n",
        "print(\"Test set score with best parameters: {:.2f}\".format(test_score))\n",
        "\n",
        "# Further assess if the model is overfitting or underfitting\n",
        "train_score = best_model.score(X_train_df, y_train)\n",
        "print(f\"Training score: {train_score:.2f}\")\n",
        "\n",
        "# Comparing training score with test score\n",
        "if train_score > test_score + 0.1:\n",
        "    print(\"The model might be overfitting.\")\n",
        "elif train_score < 0.7 and test_score < 0.7:\n",
        "    print(\"The model might be underfitting.\")\n",
        "else:\n",
        "    print(\"The model has a balanced fit.\")\n"
      ],
      "metadata": {
        "colab": {
          "base_uri": "https://localhost:8080/"
        },
        "id": "30KKXUgIB_8Z",
        "outputId": "3a7be2ce-c6ab-49dc-f7fa-ee547184a10f"
      },
      "execution_count": null,
      "outputs": [
        {
          "output_type": "stream",
          "name": "stdout",
          "text": [
            "Best parameters: {'feature_selection__k': 10}\n",
            "Best cross-validation score: 0.79\n",
            "Test set score with best parameters: 0.79\n",
            "Training score: 0.79\n",
            "The model has a balanced fit.\n"
          ]
        }
      ]
    },
    {
      "cell_type": "code",
      "source": [],
      "metadata": {
        "id": "2nkN17DIC1F5"
      },
      "execution_count": null,
      "outputs": []
    }
  ]
}